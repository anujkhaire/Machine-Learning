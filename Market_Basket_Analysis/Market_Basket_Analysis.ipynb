{
  "nbformat": 4,
  "nbformat_minor": 0,
  "metadata": {
    "colab": {
      "name": "Market_Basket_Analysis.ipynb",
      "provenance": [],
      "authorship_tag": "ABX9TyOTxPyrB1FRTkpxSnI88EdI",
      "include_colab_link": true
    },
    "kernelspec": {
      "name": "python3",
      "display_name": "Python 3"
    }
  },
  "cells": [
    {
      "cell_type": "markdown",
      "metadata": {
        "id": "view-in-github",
        "colab_type": "text"
      },
      "source": [
        "<a href=\"https://colab.research.google.com/github/anujkhaire/Machine-Learning/blob/main/Market_Basket_Analysis/Market_Basket_Analysis.ipynb\" target=\"_parent\"><img src=\"https://colab.research.google.com/assets/colab-badge.svg\" alt=\"Open In Colab\"/></a>"
      ]
    },
    {
      "cell_type": "code",
      "metadata": {
        "id": "sy0-A4ADHPSh",
        "outputId": "7e33eac2-b9f7-410c-cfa8-0e086afa26e3",
        "colab": {
          "base_uri": "https://localhost:8080/"
        }
      },
      "source": [
        "from google.colab import drive\n",
        "drive.mount('/content/drive')"
      ],
      "execution_count": 1,
      "outputs": [
        {
          "output_type": "stream",
          "text": [
            "Mounted at /content/drive\n"
          ],
          "name": "stdout"
        }
      ]
    },
    {
      "cell_type": "code",
      "metadata": {
        "id": "NQN53OMwN9U-",
        "outputId": "6fbead1a-654a-4ed3-faa1-93779a4afe30",
        "colab": {
          "base_uri": "https://localhost:8080/"
        }
      },
      "source": [
        "!pip install apyori"
      ],
      "execution_count": 2,
      "outputs": [
        {
          "output_type": "stream",
          "text": [
            "Collecting apyori\n",
            "  Downloading https://files.pythonhosted.org/packages/5e/62/5ffde5c473ea4b033490617ec5caa80d59804875ad3c3c57c0976533a21a/apyori-1.1.2.tar.gz\n",
            "Building wheels for collected packages: apyori\n",
            "  Building wheel for apyori (setup.py) ... \u001b[?25l\u001b[?25hdone\n",
            "  Created wheel for apyori: filename=apyori-1.1.2-cp36-none-any.whl size=5975 sha256=211fea6441f2320facfbdda9e1d8be1b65ff2a25d2d4959f0519e96a10560a4a\n",
            "  Stored in directory: /root/.cache/pip/wheels/5d/92/bb/474bbadbc8c0062b9eb168f69982a0443263f8ab1711a8cad0\n",
            "Successfully built apyori\n",
            "Installing collected packages: apyori\n",
            "Successfully installed apyori-1.1.2\n"
          ],
          "name": "stdout"
        }
      ]
    },
    {
      "cell_type": "code",
      "metadata": {
        "id": "P2Shiuw3SAkj",
        "outputId": "5b65f8de-ec0c-4817-bbbc-77b2d15819a9",
        "colab": {
          "base_uri": "https://localhost:8080/",
          "height": 267
        }
      },
      "source": [
        "import pandas as pd\n",
        "df = pd.read_csv('/content/drive/My Drive/colab_datasets/Market_Basket_Optimisation.csv',header=None)\n",
        "#replacing empty value with 0.\n",
        "df.fillna(0,inplace=True)\n",
        "df.head()"
      ],
      "execution_count": 4,
      "outputs": [
        {
          "output_type": "execute_result",
          "data": {
            "text/html": [
              "<div>\n",
              "<style scoped>\n",
              "    .dataframe tbody tr th:only-of-type {\n",
              "        vertical-align: middle;\n",
              "    }\n",
              "\n",
              "    .dataframe tbody tr th {\n",
              "        vertical-align: top;\n",
              "    }\n",
              "\n",
              "    .dataframe thead th {\n",
              "        text-align: right;\n",
              "    }\n",
              "</style>\n",
              "<table border=\"1\" class=\"dataframe\">\n",
              "  <thead>\n",
              "    <tr style=\"text-align: right;\">\n",
              "      <th></th>\n",
              "      <th>0</th>\n",
              "      <th>1</th>\n",
              "      <th>2</th>\n",
              "      <th>3</th>\n",
              "      <th>4</th>\n",
              "      <th>5</th>\n",
              "      <th>6</th>\n",
              "      <th>7</th>\n",
              "      <th>8</th>\n",
              "      <th>9</th>\n",
              "      <th>10</th>\n",
              "      <th>11</th>\n",
              "      <th>12</th>\n",
              "      <th>13</th>\n",
              "      <th>14</th>\n",
              "      <th>15</th>\n",
              "      <th>16</th>\n",
              "      <th>17</th>\n",
              "      <th>18</th>\n",
              "      <th>19</th>\n",
              "    </tr>\n",
              "  </thead>\n",
              "  <tbody>\n",
              "    <tr>\n",
              "      <th>0</th>\n",
              "      <td>shrimp</td>\n",
              "      <td>almonds</td>\n",
              "      <td>avocado</td>\n",
              "      <td>vegetables mix</td>\n",
              "      <td>green grapes</td>\n",
              "      <td>whole weat flour</td>\n",
              "      <td>yams</td>\n",
              "      <td>cottage cheese</td>\n",
              "      <td>energy drink</td>\n",
              "      <td>tomato juice</td>\n",
              "      <td>low fat yogurt</td>\n",
              "      <td>green tea</td>\n",
              "      <td>honey</td>\n",
              "      <td>salad</td>\n",
              "      <td>mineral water</td>\n",
              "      <td>salmon</td>\n",
              "      <td>antioxydant juice</td>\n",
              "      <td>frozen smoothie</td>\n",
              "      <td>spinach</td>\n",
              "      <td>olive oil</td>\n",
              "    </tr>\n",
              "    <tr>\n",
              "      <th>1</th>\n",
              "      <td>burgers</td>\n",
              "      <td>meatballs</td>\n",
              "      <td>eggs</td>\n",
              "      <td>0</td>\n",
              "      <td>0</td>\n",
              "      <td>0</td>\n",
              "      <td>0</td>\n",
              "      <td>0</td>\n",
              "      <td>0</td>\n",
              "      <td>0</td>\n",
              "      <td>0</td>\n",
              "      <td>0</td>\n",
              "      <td>0</td>\n",
              "      <td>0</td>\n",
              "      <td>0</td>\n",
              "      <td>0</td>\n",
              "      <td>0</td>\n",
              "      <td>0</td>\n",
              "      <td>0</td>\n",
              "      <td>0</td>\n",
              "    </tr>\n",
              "    <tr>\n",
              "      <th>2</th>\n",
              "      <td>chutney</td>\n",
              "      <td>0</td>\n",
              "      <td>0</td>\n",
              "      <td>0</td>\n",
              "      <td>0</td>\n",
              "      <td>0</td>\n",
              "      <td>0</td>\n",
              "      <td>0</td>\n",
              "      <td>0</td>\n",
              "      <td>0</td>\n",
              "      <td>0</td>\n",
              "      <td>0</td>\n",
              "      <td>0</td>\n",
              "      <td>0</td>\n",
              "      <td>0</td>\n",
              "      <td>0</td>\n",
              "      <td>0</td>\n",
              "      <td>0</td>\n",
              "      <td>0</td>\n",
              "      <td>0</td>\n",
              "    </tr>\n",
              "    <tr>\n",
              "      <th>3</th>\n",
              "      <td>turkey</td>\n",
              "      <td>avocado</td>\n",
              "      <td>0</td>\n",
              "      <td>0</td>\n",
              "      <td>0</td>\n",
              "      <td>0</td>\n",
              "      <td>0</td>\n",
              "      <td>0</td>\n",
              "      <td>0</td>\n",
              "      <td>0</td>\n",
              "      <td>0</td>\n",
              "      <td>0</td>\n",
              "      <td>0</td>\n",
              "      <td>0</td>\n",
              "      <td>0</td>\n",
              "      <td>0</td>\n",
              "      <td>0</td>\n",
              "      <td>0</td>\n",
              "      <td>0</td>\n",
              "      <td>0</td>\n",
              "    </tr>\n",
              "    <tr>\n",
              "      <th>4</th>\n",
              "      <td>mineral water</td>\n",
              "      <td>milk</td>\n",
              "      <td>energy bar</td>\n",
              "      <td>whole wheat rice</td>\n",
              "      <td>green tea</td>\n",
              "      <td>0</td>\n",
              "      <td>0</td>\n",
              "      <td>0</td>\n",
              "      <td>0</td>\n",
              "      <td>0</td>\n",
              "      <td>0</td>\n",
              "      <td>0</td>\n",
              "      <td>0</td>\n",
              "      <td>0</td>\n",
              "      <td>0</td>\n",
              "      <td>0</td>\n",
              "      <td>0</td>\n",
              "      <td>0</td>\n",
              "      <td>0</td>\n",
              "      <td>0</td>\n",
              "    </tr>\n",
              "  </tbody>\n",
              "</table>\n",
              "</div>"
            ],
            "text/plain": [
              "              0          1           2   ...               17       18         19\n",
              "0         shrimp    almonds     avocado  ...  frozen smoothie  spinach  olive oil\n",
              "1        burgers  meatballs        eggs  ...                0        0          0\n",
              "2        chutney          0           0  ...                0        0          0\n",
              "3         turkey    avocado           0  ...                0        0          0\n",
              "4  mineral water       milk  energy bar  ...                0        0          0\n",
              "\n",
              "[5 rows x 20 columns]"
            ]
          },
          "metadata": {
            "tags": []
          },
          "execution_count": 4
        }
      ]
    },
    {
      "cell_type": "code",
      "metadata": {
        "id": "WAfcYFr0SZUB"
      },
      "source": [
        "#for using aprori need to convert data in list format..\n",
        "# transaction = [['apple','almonds'],['apple'],['banana','apple']]....\n",
        "transactions = []\n",
        "for i in range(0,len(df)):\n",
        "    transactions.append([str(df.values[i,j]) for j in range(0,20) if str(df.values[i,j])!='0'])"
      ],
      "execution_count": 5,
      "outputs": []
    },
    {
      "cell_type": "code",
      "metadata": {
        "id": "ysKcEIycSnvI",
        "outputId": "9e3a0ac3-d380-4fe1-a954-9caebd0f11bc",
        "colab": {
          "base_uri": "https://localhost:8080/"
        }
      },
      "source": [
        "transactions[0]"
      ],
      "execution_count": 6,
      "outputs": [
        {
          "output_type": "execute_result",
          "data": {
            "text/plain": [
              "['shrimp',\n",
              " 'almonds',\n",
              " 'avocado',\n",
              " 'vegetables mix',\n",
              " 'green grapes',\n",
              " 'whole weat flour',\n",
              " 'yams',\n",
              " 'cottage cheese',\n",
              " 'energy drink',\n",
              " 'tomato juice',\n",
              " 'low fat yogurt',\n",
              " 'green tea',\n",
              " 'honey',\n",
              " 'salad',\n",
              " 'mineral water',\n",
              " 'salmon',\n",
              " 'antioxydant juice',\n",
              " 'frozen smoothie',\n",
              " 'spinach',\n",
              " 'olive oil']"
            ]
          },
          "metadata": {
            "tags": []
          },
          "execution_count": 6
        }
      ]
    },
    {
      "cell_type": "code",
      "metadata": {
        "id": "ecNdUHmVSt-i"
      },
      "source": [
        "  from apyori import apriori\n",
        "  #Call apriori function which requires minimum support, confidance and lift, min length is combination of item default is 2\".\n",
        "  rules = apriori(transactions,min_support=0.003,min_confidance=0.2,min_lift=3,min_length=2)"
      ],
      "execution_count": 11,
      "outputs": []
    },
    {
      "cell_type": "code",
      "metadata": {
        "id": "4YPjmasbS2W0",
        "outputId": "1183e12e-0da9-4341-d3d7-f5d0866585b1",
        "colab": {
          "base_uri": "https://localhost:8080/"
        }
      },
      "source": [
        "rules"
      ],
      "execution_count": 8,
      "outputs": [
        {
          "output_type": "execute_result",
          "data": {
            "text/plain": [
              "<generator object apriori at 0x7f1416c91e60>"
            ]
          },
          "metadata": {
            "tags": []
          },
          "execution_count": 8
        }
      ]
    },
    {
      "cell_type": "code",
      "metadata": {
        "id": "XkGAsadXS9Ds"
      },
      "source": [
        "# all rules need to be converted in a list..\n",
        "Results = list(rules)"
      ],
      "execution_count": 9,
      "outputs": []
    },
    {
      "cell_type": "code",
      "metadata": {
        "id": "3onfTL24TC62",
        "outputId": "e7ade624-16a7-4f59-e8e4-15e100ed442e",
        "colab": {
          "base_uri": "https://localhost:8080/",
          "height": 197
        }
      },
      "source": [
        "#convert result in a dataframe for further operation...\n",
        "df_results = pd.DataFrame(Results)\n",
        "df_results.head()"
      ],
      "execution_count": 12,
      "outputs": [
        {
          "output_type": "execute_result",
          "data": {
            "text/html": [
              "<div>\n",
              "<style scoped>\n",
              "    .dataframe tbody tr th:only-of-type {\n",
              "        vertical-align: middle;\n",
              "    }\n",
              "\n",
              "    .dataframe tbody tr th {\n",
              "        vertical-align: top;\n",
              "    }\n",
              "\n",
              "    .dataframe thead th {\n",
              "        text-align: right;\n",
              "    }\n",
              "</style>\n",
              "<table border=\"1\" class=\"dataframe\">\n",
              "  <thead>\n",
              "    <tr style=\"text-align: right;\">\n",
              "      <th></th>\n",
              "      <th>items</th>\n",
              "      <th>support</th>\n",
              "      <th>ordered_statistics</th>\n",
              "    </tr>\n",
              "  </thead>\n",
              "  <tbody>\n",
              "    <tr>\n",
              "      <th>0</th>\n",
              "      <td>(cottage cheese, brownies)</td>\n",
              "      <td>0.003466</td>\n",
              "      <td>[((brownies), (cottage cheese), 0.102766798418...</td>\n",
              "    </tr>\n",
              "    <tr>\n",
              "      <th>1</th>\n",
              "      <td>(chicken, light cream)</td>\n",
              "      <td>0.004533</td>\n",
              "      <td>[((chicken), (light cream), 0.0755555555555555...</td>\n",
              "    </tr>\n",
              "    <tr>\n",
              "      <th>2</th>\n",
              "      <td>(escalope, mushroom cream sauce)</td>\n",
              "      <td>0.005733</td>\n",
              "      <td>[((escalope), (mushroom cream sauce), 0.072268...</td>\n",
              "    </tr>\n",
              "    <tr>\n",
              "      <th>3</th>\n",
              "      <td>(escalope, pasta)</td>\n",
              "      <td>0.005866</td>\n",
              "      <td>[((escalope), (pasta), 0.07394957983193277, 4....</td>\n",
              "    </tr>\n",
              "    <tr>\n",
              "      <th>4</th>\n",
              "      <td>(tomato juice, fresh bread)</td>\n",
              "      <td>0.004266</td>\n",
              "      <td>[((fresh bread), (tomato juice), 0.09907120743...</td>\n",
              "    </tr>\n",
              "  </tbody>\n",
              "</table>\n",
              "</div>"
            ],
            "text/plain": [
              "                              items  ...                                 ordered_statistics\n",
              "0        (cottage cheese, brownies)  ...  [((brownies), (cottage cheese), 0.102766798418...\n",
              "1            (chicken, light cream)  ...  [((chicken), (light cream), 0.0755555555555555...\n",
              "2  (escalope, mushroom cream sauce)  ...  [((escalope), (mushroom cream sauce), 0.072268...\n",
              "3                 (escalope, pasta)  ...  [((escalope), (pasta), 0.07394957983193277, 4....\n",
              "4       (tomato juice, fresh bread)  ...  [((fresh bread), (tomato juice), 0.09907120743...\n",
              "\n",
              "[5 rows x 3 columns]"
            ]
          },
          "metadata": {
            "tags": []
          },
          "execution_count": 12
        }
      ]
    },
    {
      "cell_type": "code",
      "metadata": {
        "id": "eWIt8q_kTWlU"
      },
      "source": [
        "#keep support in a separate data frame so we can use later.. \n",
        "support = df_results.support"
      ],
      "execution_count": 13,
      "outputs": []
    },
    {
      "cell_type": "code",
      "metadata": {
        "id": "Epc7AnsCTgOe"
      },
      "source": [
        "'''\n",
        "convert orderstatistic in a proper format.\n",
        "order statistic has lhs => rhs as well rhs => lhs we can choose any one for convience i choose first one which is 'df_results['ordered_statistics'][i][0]'\n",
        "''' \n",
        "\n",
        "#all four empty list which will contain lhs, rhs, confidance and lift respectively.\n",
        "\n",
        "first_values = []\n",
        "second_values = []\n",
        "third_values = []\n",
        "fourth_value = []\n",
        "\n",
        "# loop number of rows time and append 1 by 1 value in a separate list.. first and second element was frozenset which need to be converted in list..\n",
        "for i in range(df_results.shape[0]):\n",
        "    single_list = df_results['ordered_statistics'][i][0]\n",
        "    first_values.append(list(single_list[0]))\n",
        "    second_values.append(list(single_list[1]))\n",
        "    third_values.append(single_list[2])\n",
        "    fourth_value.append(single_list[3])"
      ],
      "execution_count": 14,
      "outputs": []
    },
    {
      "cell_type": "code",
      "metadata": {
        "id": "suNxFcW7UdIW"
      },
      "source": [
        "#convert all four list into dataframe for further operation..\n",
        "lhs = pd.DataFrame(first_values)\n",
        "rhs= pd.DataFrame(second_values)\n",
        "confidance=pd.DataFrame(third_values,columns=['Confidance'])\n",
        "lift=pd.DataFrame(fourth_value,columns=['lift'])"
      ],
      "execution_count": 15,
      "outputs": []
    },
    {
      "cell_type": "code",
      "metadata": {
        "id": "Gk2FTHM3VYLp",
        "outputId": "9a8579ff-cf95-410e-bcb5-cf964c9f915e",
        "colab": {
          "base_uri": "https://localhost:8080/",
          "height": 406
        }
      },
      "source": [
        "#concat all list together in a single dataframe\n",
        "df_final = pd.concat([lhs,rhs,support,confidance,lift], axis=1)\n",
        "df_final"
      ],
      "execution_count": 22,
      "outputs": [
        {
          "output_type": "execute_result",
          "data": {
            "text/html": [
              "<div>\n",
              "<style scoped>\n",
              "    .dataframe tbody tr th:only-of-type {\n",
              "        vertical-align: middle;\n",
              "    }\n",
              "\n",
              "    .dataframe tbody tr th {\n",
              "        vertical-align: top;\n",
              "    }\n",
              "\n",
              "    .dataframe thead th {\n",
              "        text-align: right;\n",
              "    }\n",
              "</style>\n",
              "<table border=\"1\" class=\"dataframe\">\n",
              "  <thead>\n",
              "    <tr style=\"text-align: right;\">\n",
              "      <th></th>\n",
              "      <th>0</th>\n",
              "      <th>1</th>\n",
              "      <th>0</th>\n",
              "      <th>1</th>\n",
              "      <th>2</th>\n",
              "      <th>support</th>\n",
              "      <th>Confidance</th>\n",
              "      <th>lift</th>\n",
              "    </tr>\n",
              "  </thead>\n",
              "  <tbody>\n",
              "    <tr>\n",
              "      <th>0</th>\n",
              "      <td>brownies</td>\n",
              "      <td>None</td>\n",
              "      <td>cottage cheese</td>\n",
              "      <td>None</td>\n",
              "      <td>None</td>\n",
              "      <td>0.003466</td>\n",
              "      <td>0.102767</td>\n",
              "      <td>3.225330</td>\n",
              "    </tr>\n",
              "    <tr>\n",
              "      <th>1</th>\n",
              "      <td>chicken</td>\n",
              "      <td>None</td>\n",
              "      <td>light cream</td>\n",
              "      <td>None</td>\n",
              "      <td>None</td>\n",
              "      <td>0.004533</td>\n",
              "      <td>0.075556</td>\n",
              "      <td>4.843951</td>\n",
              "    </tr>\n",
              "    <tr>\n",
              "      <th>2</th>\n",
              "      <td>escalope</td>\n",
              "      <td>None</td>\n",
              "      <td>mushroom cream sauce</td>\n",
              "      <td>None</td>\n",
              "      <td>None</td>\n",
              "      <td>0.005733</td>\n",
              "      <td>0.072269</td>\n",
              "      <td>3.790833</td>\n",
              "    </tr>\n",
              "    <tr>\n",
              "      <th>3</th>\n",
              "      <td>escalope</td>\n",
              "      <td>None</td>\n",
              "      <td>pasta</td>\n",
              "      <td>None</td>\n",
              "      <td>None</td>\n",
              "      <td>0.005866</td>\n",
              "      <td>0.073950</td>\n",
              "      <td>4.700812</td>\n",
              "    </tr>\n",
              "    <tr>\n",
              "      <th>4</th>\n",
              "      <td>fresh bread</td>\n",
              "      <td>None</td>\n",
              "      <td>tomato juice</td>\n",
              "      <td>None</td>\n",
              "      <td>None</td>\n",
              "      <td>0.004266</td>\n",
              "      <td>0.099071</td>\n",
              "      <td>3.259356</td>\n",
              "    </tr>\n",
              "    <tr>\n",
              "      <th>...</th>\n",
              "      <td>...</td>\n",
              "      <td>...</td>\n",
              "      <td>...</td>\n",
              "      <td>...</td>\n",
              "      <td>...</td>\n",
              "      <td>...</td>\n",
              "      <td>...</td>\n",
              "      <td>...</td>\n",
              "    </tr>\n",
              "    <tr>\n",
              "      <th>89</th>\n",
              "      <td>ground beef</td>\n",
              "      <td>pancakes</td>\n",
              "      <td>mineral water</td>\n",
              "      <td>spaghetti</td>\n",
              "      <td>None</td>\n",
              "      <td>0.003066</td>\n",
              "      <td>0.211009</td>\n",
              "      <td>3.532991</td>\n",
              "    </tr>\n",
              "    <tr>\n",
              "      <th>90</th>\n",
              "      <td>ground beef</td>\n",
              "      <td>None</td>\n",
              "      <td>tomatoes</td>\n",
              "      <td>mineral water</td>\n",
              "      <td>spaghetti</td>\n",
              "      <td>0.003066</td>\n",
              "      <td>0.031208</td>\n",
              "      <td>3.344117</td>\n",
              "    </tr>\n",
              "    <tr>\n",
              "      <th>91</th>\n",
              "      <td>olive oil</td>\n",
              "      <td>None</td>\n",
              "      <td>mineral water</td>\n",
              "      <td>spaghetti</td>\n",
              "      <td>milk</td>\n",
              "      <td>0.003333</td>\n",
              "      <td>0.050607</td>\n",
              "      <td>3.216994</td>\n",
              "    </tr>\n",
              "    <tr>\n",
              "      <th>92</th>\n",
              "      <td>mineral water</td>\n",
              "      <td>milk</td>\n",
              "      <td>spaghetti</td>\n",
              "      <td>shrimp</td>\n",
              "      <td>None</td>\n",
              "      <td>0.003066</td>\n",
              "      <td>0.063889</td>\n",
              "      <td>3.014029</td>\n",
              "    </tr>\n",
              "    <tr>\n",
              "      <th>93</th>\n",
              "      <td>tomatoes</td>\n",
              "      <td>None</td>\n",
              "      <td>mineral water</td>\n",
              "      <td>spaghetti</td>\n",
              "      <td>milk</td>\n",
              "      <td>0.003333</td>\n",
              "      <td>0.048733</td>\n",
              "      <td>3.097846</td>\n",
              "    </tr>\n",
              "  </tbody>\n",
              "</table>\n",
              "<p>94 rows × 8 columns</p>\n",
              "</div>"
            ],
            "text/plain": [
              "                0         1  ... Confidance      lift\n",
              "0        brownies      None  ...   0.102767  3.225330\n",
              "1         chicken      None  ...   0.075556  4.843951\n",
              "2        escalope      None  ...   0.072269  3.790833\n",
              "3        escalope      None  ...   0.073950  4.700812\n",
              "4     fresh bread      None  ...   0.099071  3.259356\n",
              "..            ...       ...  ...        ...       ...\n",
              "89    ground beef  pancakes  ...   0.211009  3.532991\n",
              "90    ground beef      None  ...   0.031208  3.344117\n",
              "91      olive oil      None  ...   0.050607  3.216994\n",
              "92  mineral water      milk  ...   0.063889  3.014029\n",
              "93       tomatoes      None  ...   0.048733  3.097846\n",
              "\n",
              "[94 rows x 8 columns]"
            ]
          },
          "metadata": {
            "tags": []
          },
          "execution_count": 22
        }
      ]
    },
    {
      "cell_type": "code",
      "metadata": {
        "id": "jdU77AvPVjcs",
        "outputId": "cf7fcb37-8bc1-4899-9604-9221514e92a8",
        "colab": {
          "base_uri": "https://localhost:8080/",
          "height": 197
        }
      },
      "source": [
        "df_final.fillna(value=' ', inplace=True)\n",
        "#set column name\n",
        "df_final.columns = ['lhs',0,'rhs',1,2,'support','confidance','lift']\n",
        "#add all three column because those where the lhs itemset only\n",
        "df_final['lhs'] = df_final['lhs']+str(\", \")+df_final[1]+str(\", \")\n",
        "df_final.head()"
      ],
      "execution_count": 24,
      "outputs": [
        {
          "output_type": "execute_result",
          "data": {
            "text/html": [
              "<div>\n",
              "<style scoped>\n",
              "    .dataframe tbody tr th:only-of-type {\n",
              "        vertical-align: middle;\n",
              "    }\n",
              "\n",
              "    .dataframe tbody tr th {\n",
              "        vertical-align: top;\n",
              "    }\n",
              "\n",
              "    .dataframe thead th {\n",
              "        text-align: right;\n",
              "    }\n",
              "</style>\n",
              "<table border=\"1\" class=\"dataframe\">\n",
              "  <thead>\n",
              "    <tr style=\"text-align: right;\">\n",
              "      <th></th>\n",
              "      <th>lhs</th>\n",
              "      <th>0</th>\n",
              "      <th>rhs</th>\n",
              "      <th>1</th>\n",
              "      <th>2</th>\n",
              "      <th>support</th>\n",
              "      <th>confidance</th>\n",
              "      <th>lift</th>\n",
              "    </tr>\n",
              "  </thead>\n",
              "  <tbody>\n",
              "    <tr>\n",
              "      <th>0</th>\n",
              "      <td>brownies,  , ,  ,</td>\n",
              "      <td></td>\n",
              "      <td>cottage cheese</td>\n",
              "      <td></td>\n",
              "      <td></td>\n",
              "      <td>0.003466</td>\n",
              "      <td>0.102767</td>\n",
              "      <td>3.225330</td>\n",
              "    </tr>\n",
              "    <tr>\n",
              "      <th>1</th>\n",
              "      <td>chicken,  , ,  ,</td>\n",
              "      <td></td>\n",
              "      <td>light cream</td>\n",
              "      <td></td>\n",
              "      <td></td>\n",
              "      <td>0.004533</td>\n",
              "      <td>0.075556</td>\n",
              "      <td>4.843951</td>\n",
              "    </tr>\n",
              "    <tr>\n",
              "      <th>2</th>\n",
              "      <td>escalope,  , ,  ,</td>\n",
              "      <td></td>\n",
              "      <td>mushroom cream sauce</td>\n",
              "      <td></td>\n",
              "      <td></td>\n",
              "      <td>0.005733</td>\n",
              "      <td>0.072269</td>\n",
              "      <td>3.790833</td>\n",
              "    </tr>\n",
              "    <tr>\n",
              "      <th>3</th>\n",
              "      <td>escalope,  , ,  ,</td>\n",
              "      <td></td>\n",
              "      <td>pasta</td>\n",
              "      <td></td>\n",
              "      <td></td>\n",
              "      <td>0.005866</td>\n",
              "      <td>0.073950</td>\n",
              "      <td>4.700812</td>\n",
              "    </tr>\n",
              "    <tr>\n",
              "      <th>4</th>\n",
              "      <td>fresh bread,  , ,  ,</td>\n",
              "      <td></td>\n",
              "      <td>tomato juice</td>\n",
              "      <td></td>\n",
              "      <td></td>\n",
              "      <td>0.004266</td>\n",
              "      <td>0.099071</td>\n",
              "      <td>3.259356</td>\n",
              "    </tr>\n",
              "  </tbody>\n",
              "</table>\n",
              "</div>"
            ],
            "text/plain": [
              "                     lhs  0  ... confidance      lift\n",
              "0     brownies,  , ,  ,      ...   0.102767  3.225330\n",
              "1      chicken,  , ,  ,      ...   0.075556  4.843951\n",
              "2     escalope,  , ,  ,      ...   0.072269  3.790833\n",
              "3     escalope,  , ,  ,      ...   0.073950  4.700812\n",
              "4  fresh bread,  , ,  ,      ...   0.099071  3.259356\n",
              "\n",
              "[5 rows x 8 columns]"
            ]
          },
          "metadata": {
            "tags": []
          },
          "execution_count": 24
        }
      ]
    },
    {
      "cell_type": "code",
      "metadata": {
        "id": "0aLgm8CwW1Fl"
      },
      "source": [
        "#drop those 1,2 column because now we already appended to lhs column..\n",
        "df_final.drop(columns=[0,1,2],inplace=True)"
      ],
      "execution_count": 18,
      "outputs": []
    },
    {
      "cell_type": "code",
      "metadata": {
        "id": "ikrk1P4RZ8NT",
        "outputId": "3aa00056-ca9c-40bb-e023-81b4b91a0dd4",
        "colab": {
          "base_uri": "https://localhost:8080/",
          "height": 197
        }
      },
      "source": [
        "df_final.head()"
      ],
      "execution_count": 19,
      "outputs": [
        {
          "output_type": "execute_result",
          "data": {
            "text/html": [
              "<div>\n",
              "<style scoped>\n",
              "    .dataframe tbody tr th:only-of-type {\n",
              "        vertical-align: middle;\n",
              "    }\n",
              "\n",
              "    .dataframe tbody tr th {\n",
              "        vertical-align: top;\n",
              "    }\n",
              "\n",
              "    .dataframe thead th {\n",
              "        text-align: right;\n",
              "    }\n",
              "</style>\n",
              "<table border=\"1\" class=\"dataframe\">\n",
              "  <thead>\n",
              "    <tr style=\"text-align: right;\">\n",
              "      <th></th>\n",
              "      <th>lhs</th>\n",
              "      <th>rhs</th>\n",
              "      <th>support</th>\n",
              "      <th>confidance</th>\n",
              "      <th>lift</th>\n",
              "    </tr>\n",
              "  </thead>\n",
              "  <tbody>\n",
              "    <tr>\n",
              "      <th>0</th>\n",
              "      <td>brownies,  ,</td>\n",
              "      <td>cottage cheese</td>\n",
              "      <td>0.003466</td>\n",
              "      <td>0.102767</td>\n",
              "      <td>3.225330</td>\n",
              "    </tr>\n",
              "    <tr>\n",
              "      <th>1</th>\n",
              "      <td>chicken,  ,</td>\n",
              "      <td>light cream</td>\n",
              "      <td>0.004533</td>\n",
              "      <td>0.075556</td>\n",
              "      <td>4.843951</td>\n",
              "    </tr>\n",
              "    <tr>\n",
              "      <th>2</th>\n",
              "      <td>escalope,  ,</td>\n",
              "      <td>mushroom cream sauce</td>\n",
              "      <td>0.005733</td>\n",
              "      <td>0.072269</td>\n",
              "      <td>3.790833</td>\n",
              "    </tr>\n",
              "    <tr>\n",
              "      <th>3</th>\n",
              "      <td>escalope,  ,</td>\n",
              "      <td>pasta</td>\n",
              "      <td>0.005866</td>\n",
              "      <td>0.073950</td>\n",
              "      <td>4.700812</td>\n",
              "    </tr>\n",
              "    <tr>\n",
              "      <th>4</th>\n",
              "      <td>fresh bread,  ,</td>\n",
              "      <td>tomato juice</td>\n",
              "      <td>0.004266</td>\n",
              "      <td>0.099071</td>\n",
              "      <td>3.259356</td>\n",
              "    </tr>\n",
              "  </tbody>\n",
              "</table>\n",
              "</div>"
            ],
            "text/plain": [
              "                lhs                   rhs   support  confidance      lift\n",
              "0     brownies,  ,         cottage cheese  0.003466    0.102767  3.225330\n",
              "1      chicken,  ,            light cream  0.004533    0.075556  4.843951\n",
              "2     escalope,  ,   mushroom cream sauce  0.005733    0.072269  3.790833\n",
              "3     escalope,  ,                  pasta  0.005866    0.073950  4.700812\n",
              "4  fresh bread,  ,           tomato juice  0.004266    0.099071  3.259356"
            ]
          },
          "metadata": {
            "tags": []
          },
          "execution_count": 19
        }
      ]
    },
    {
      "cell_type": "code",
      "metadata": {
        "id": "vVfDg7zzbthr"
      },
      "source": [
        ""
      ],
      "execution_count": null,
      "outputs": []
    }
  ]
}